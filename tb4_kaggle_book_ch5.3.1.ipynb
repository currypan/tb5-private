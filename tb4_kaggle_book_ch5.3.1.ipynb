{
 "cells": [
  {
   "cell_type": "code",
   "execution_count": 64,
   "metadata": {
    "collapsed": true
   },
   "outputs": [],
   "source": [
    "# warningsを無視する\n",
    "import warnings\n",
    "warnings.filterwarnings('ignore')"
   ]
  },
  {
   "cell_type": "markdown",
   "metadata": {},
   "source": [
    "# 5.3 モデルの改良"
   ]
  },
  {
   "cell_type": "code",
   "execution_count": 65,
   "metadata": {
    "collapsed": true
   },
   "outputs": [],
   "source": [
    "import numpy as np\n",
    "import pandas as pd"
   ]
  },
  {
   "cell_type": "code",
   "execution_count": 66,
   "metadata": {
    "collapsed": true
   },
   "outputs": [],
   "source": [
    "# カーネルの場合\n",
    "#df_train = pd.read_csv('../input/train.csv')\n",
    "#df_test = pd.read_csv('../input/test.csv')\n",
    "\n",
    "# 本レポジトリの場合\n",
    "df_train = pd.read_csv(\"./titanic_csv/train.csv\")\n",
    "df_test = pd.read_csv(\"./titanic_csv/test.csv\")"
   ]
  },
  {
   "cell_type": "code",
   "execution_count": 67,
   "metadata": {
    "collapsed": true
   },
   "outputs": [],
   "source": [
    "import matplotlib as mpl\n",
    "import matplotlib.pyplot as plt\n",
    "import seaborn as sns\n",
    "% matplotlib inline\n",
    "\n",
    "# 日本語表示用 ##カーネルでは日本語表示できない\n",
    "plt.rcParams[\"font.size\"] = 18\n",
    "plt.rcParams['font.family'] = 'IPAPGothic' \n",
    "\n",
    "# サイズの設定\n",
    "plt.rcParams['figure.figsize'] = (8.0, 6.0)"
   ]
  },
  {
   "cell_type": "markdown",
   "metadata": {},
   "source": [
    "## 5.3.1 年齢の補完方法を変更する"
   ]
  },
  {
   "cell_type": "code",
   "execution_count": 68,
   "metadata": {},
   "outputs": [
    {
     "data": {
      "text/plain": [
       "<matplotlib.text.Text at 0x10ca6e438>"
      ]
     },
     "execution_count": 68,
     "metadata": {},
     "output_type": "execute_result"
    },
    {
     "data": {
      "image/png": "[encoded data removed]",
      "text/plain": [
       "<matplotlib.figure.Figure at 0x110ce09b0>"
      ]
     },
     "metadata": {},
     "output_type": "display_data"
    }
   ],
   "source": [
    "sns.boxplot(x='Pclass', y='Age', data=df_train)\n",
    "plt.xticks([0.0,1.0,2.0], ['1st','2nd','3rd'], fontsize = 20)\n",
    "plt.title('チケットクラスごとの年齢の箱ひげ図', fontsize = 20)\n",
    "plt.xlabel('Pclass(チケットクラス)', fontsize = 20)\n",
    "plt.ylabel('Age(年齢)', fontsize = 20)"
   ]
  },
  {
   "cell_type": "code",
   "execution_count": 69,
   "metadata": {},
   "outputs": [
    {
     "data": {
      "text/plain": [
       "Pclass\n",
       "1    38.233441\n",
       "2    29.877630\n",
       "3    25.140620\n",
       "Name: Age, dtype: float64"
      ]
     },
     "execution_count": 69,
     "metadata": {},
     "output_type": "execute_result"
    }
   ],
   "source": [
    "# PclassごとにAgeの平均を算出\n",
    "df_train.groupby('Pclass').mean()['Age'] "
   ]
  },
  {
   "cell_type": "code",
   "execution_count": 70,
   "metadata": {
    "collapsed": true
   },
   "outputs": [],
   "source": [
    "# Embarkedの補完\n",
    "df_train.loc[df_train['PassengerId'].isin([62, 830]), 'Embarked'] = 'C'\n",
    "\n",
    "# Fareの補完\n",
    "df_test.loc[df_test['PassengerId'] == 1044, 'Fare'] = 13.675550\n",
    "\n",
    "#Age変換のための関数\n",
    "def impute_age(cols):\n",
    "    Age = cols[0]\n",
    "    Pclass = cols[1]\n",
    "    \n",
    "    if pd.isnull(Age):        \n",
    "        if Pclass == 1:\n",
    "            return 39\n",
    "        elif Pclass == 2:\n",
    "            return 30\n",
    "        else:\n",
    "            return 25    \n",
    "    else:\n",
    "        return Age\n",
    "\n",
    "\n",
    "data = [df_train, df_test]\n",
    "for df in data:\n",
    "    # Ageの補完\n",
    "    df['Age'] = df[['Age','Pclass']].apply(impute_age, axis = 1) \n",
    "\n",
    "    # 性別の変換\n",
    "    df['Sex'] = df['Sex'].map({\"male\": 0, \"female\": 1})\n",
    "        \n",
    "    # Embarked\n",
    "    df['Embarked'] = df['Embarked'].map( {'S': 0, 'C': 1, 'Q': 2} ).astype(int)\n",
    "    \n",
    "    "
   ]
  },
  {
   "cell_type": "code",
   "execution_count": 71,
   "metadata": {
    "collapsed": true
   },
   "outputs": [],
   "source": [
    "df_train = pd.get_dummies(df_train, columns = ['Embarked'])\n",
    "df_test = pd.get_dummies(df_test, columns = ['Embarked'])"
   ]
  },
  {
   "cell_type": "code",
   "execution_count": 72,
   "metadata": {
    "collapsed": true
   },
   "outputs": [],
   "source": [
    "df_train.drop(['Name', 'Cabin', 'Ticket'], axis=1, inplace=True)\n",
    "df_test.drop(['Name', 'Cabin', 'Ticket'], axis=1, inplace=True)"
   ]
  },
  {
   "cell_type": "code",
   "execution_count": 73,
   "metadata": {
    "collapsed": true
   },
   "outputs": [],
   "source": [
    "X_train = df_train.drop([\"PassengerId\", \"Survived\"], axis=1) # 不要な列を削除\n",
    "Y_train = df_train['Survived'] # Y_trainは、df_trainのSurvived列\n",
    "X_test  = df_test.drop('PassengerId', axis=1).copy()"
   ]
  },
  {
   "cell_type": "code",
   "execution_count": 74,
   "metadata": {
    "collapsed": true
   },
   "outputs": [],
   "source": [
    "from sklearn.ensemble import RandomForestClassifier\n",
    "\n",
    "# 学習と予測を行う\n",
    "forest = RandomForestClassifier(random_state=1)\n",
    "forest.fit(X_train, Y_train)\n",
    "Y_prediction = forest.predict(X_test)\n",
    "submission = pd.DataFrame({\n",
    "        'PassengerId': df_test['PassengerId'],\n",
    "        'Survived': Y_prediction\n",
    "    })\n",
    "submission.to_csv('submission.csv', index=False)"
   ]
  }
 ],
 "metadata": {
  "anaconda-cloud": {},
  "kernelspec": {
   "display_name": "Python [conda root]",
   "language": "python",
   "name": "conda-root-py"
  },
  "language_info": {
   "codemirror_mode": {
    "name": "ipython",
    "version": 3
   },
   "file_extension": ".py",
   "mimetype": "text/x-python",
   "name": "python",
   "nbconvert_exporter": "python",
   "pygments_lexer": "ipython3",
   "version": "3.5.2"
  },
  "toc": {
   "colors": {
    "hover_highlight": "#DAA520",
    "running_highlight": "#FF0000",
    "selected_highlight": "#FFD700"
   },
   "moveMenuLeft": true,
   "nav_menu": {
    "height": "318px",
    "width": "252px"
   },
   "navigate_menu": true,
   "number_sections": false,
   "sideBar": true,
   "threshold": 4,
   "toc_cell": false,
   "toc_section_display": "block",
   "toc_window_display": true,
   "widenNotebook": false
  }
 },
 "nbformat": 4,
 "nbformat_minor": 1
}
