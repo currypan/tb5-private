{
 "cells": [
  {
   "cell_type": "markdown",
   "metadata": {},
   "source": [
    "# 10/5 勉強会用"
   ]
  },
  {
   "cell_type": "markdown",
   "metadata": {},
   "source": [
    "## lightGBM関連のリンク集\n",
    "- 公式：https://github.com/Microsoft/LightGBM\n",
    "    - example:https://github.com/Microsoft/LightGBM/tree/master/examples\n",
    "    - parameters:https://github.com/Microsoft/LightGBM/blob/master/docs/Parameters.rst\n",
    "- 日本語資料\n",
    "    - [LightGBM ハンズオン \\- もう一つのGradient Boostingライブラリ \\- Qiita](https://qiita.com/TomokIshii/items/3729c1b9c658cc48b5cb)\n",
    "    - [Python: LightGBM を使ってみる \\- CUBE SUGAR CONTAINER](https://blog.amedama.jp/entry/2018/05/01/081842)\n",
    "    - [NIPS2017読み会@クックパッドでLightGBMの論文紹介してきた（全発表資料リンク付き） \\- tkm2261's blog](http://yutori-datascience.hatenablog.com/entry/2018/01/29/220935)\n",
    "    - [Santander Product RecommendationのアプローチとXGBoostの小ネタ \\- Speaker Deck](https://speakerdeck.com/rsakata/santander-product-recommendationfalseapurotitoxgboostfalsexiao-neta)\n",
    "  "
   ]
  },
  {
   "cell_type": "markdown",
   "metadata": {},
   "source": [
    "# タイタニックのデータで試す"
   ]
  },
  {
   "cell_type": "code",
   "execution_count": 20,
   "metadata": {},
   "outputs": [],
   "source": [
    "import pandas as pd\n",
    "import numpy as np\n",
    "import lightgbm as lgb\n",
    "from sklearn.model_selection import KFold\n",
    "from sklearn.metrics import accuracy_score\n",
    "import warnings\n",
    "warnings.filterwarnings('ignore')\n",
    "import matplotlib as mpl\n",
    "import matplotlib.pyplot as plt"
   ]
  },
  {
   "cell_type": "code",
   "execution_count": 3,
   "metadata": {},
   "outputs": [],
   "source": [
    "df_train = pd.read_csv('./input/train.csv')\n",
    "df_test = pd.read_csv('./input/test.csv')\n",
    "df_gender_submission = pd.read_csv('./input/gender_submission.csv')"
   ]
  },
  {
   "cell_type": "code",
   "execution_count": 4,
   "metadata": {},
   "outputs": [],
   "source": [
    "genders = {'male': 0, 'female': 1} # 辞書を作成\n",
    "# Sexをgendersを用いて変換\n",
    "df_train['Sex'] = d試すf_train['Sex'].map(genders)\n",
    "df_test['Sex'] = df_test['Sex'].map(genders)\n",
    "\n",
    "# ダミー変数化\n",
    "df_train = pd.get_dummies(df_train, columns=['Embarked'])\n",
    "df_test = pd.get_dummies(df_test, columns = ['Embarked'])\n",
    "\n",
    "# 不要な列の削除\n",
    "df_train.drop(['PassengerId', 'Name', 'Cabin', 'Ticket'], axis=1, inplace=True)\n",
    "df_test.drop(['PassengerId', 'Name', 'Cabin', 'Ticket'], axis=1, inplace=True)"
   ]
  },
  {
   "cell_type": "code",
   "execution_count": 5,
   "metadata": {},
   "outputs": [
    {
     "data": {
      "text/html": [
       "<div>\n",
       "<style scoped>\n",
       "    .dataframe tbody tr th:only-of-type {\n",
       "        vertical-align: middle;\n",
       "    }\n",
       "\n",
       "    .dataframe tbody tr th {\n",
       "        vertical-align: top;\n",
       "    }\n",
       "\n",
       "    .dataframe thead th {\n",
       "        text-align: right;\n",
       "    }\n",
       "</style>\n",
       "<table border=\"1\" class=\"dataframe\">\n",
       "  <thead>\n",
       "    <tr style=\"text-align: right;\">\n",
       "      <th></th>\n",
       "      <th>Survived</th>\n",
       "      <th>Pclass</th>\n",
       "      <th>Sex</th>\n",
       "      <th>Age</th>\n",
       "      <th>SibSp</th>\n",
       "      <th>Parch</th>\n",
       "      <th>Fare</th>\n",
       "      <th>Embarked_C</th>\n",
       "      <th>Embarked_Q</th>\n",
       "      <th>Embarked_S</th>\n",
       "    </tr>\n",
       "  </thead>\n",
       "  <tbody>\n",
       "    <tr>\n",
       "      <th>0</th>\n",
       "      <td>0</td>\n",
       "      <td>3</td>\n",
       "      <td>0</td>\n",
       "      <td>22.0</td>\n",
       "      <td>1</td>\n",
       "      <td>0</td>\n",
       "      <td>7.2500</td>\n",
       "      <td>0</td>\n",
       "      <td>0</td>\n",
       "      <td>1</td>\n",
       "    </tr>\n",
       "    <tr>\n",
       "      <th>1</th>\n",
       "      <td>1</td>\n",
       "      <td>1</td>\n",
       "      <td>1</td>\n",
       "      <td>38.0</td>\n",
       "      <td>1</td>\n",
       "      <td>0</td>\n",
       "      <td>71.2833</td>\n",
       "      <td>1</td>\n",
       "      <td>0</td>\n",
       "      <td>0</td>\n",
       "    </tr>\n",
       "    <tr>\n",
       "      <th>2</th>\n",
       "      <td>1</td>\n",
       "      <td>3</td>\n",
       "      <td>1</td>\n",
       "      <td>26.0</td>\n",
       "      <td>0</td>\n",
       "      <td>0</td>\n",
       "      <td>7.9250</td>\n",
       "      <td>0</td>\n",
       "      <td>0</td>\n",
       "      <td>1</td>\n",
       "    </tr>\n",
       "    <tr>\n",
       "      <th>3</th>\n",
       "      <td>1</td>\n",
       "      <td>1</td>\n",
       "      <td>1</td>\n",
       "      <td>35.0</td>\n",
       "      <td>1</td>\n",
       "      <td>0</td>\n",
       "      <td>53.1000</td>\n",
       "      <td>0</td>\n",
       "      <td>0</td>\n",
       "      <td>1</td>\n",
       "    </tr>\n",
       "    <tr>\n",
       "      <th>4</th>\n",
       "      <td>0</td>\n",
       "      <td>3</td>\n",
       "      <td>0</td>\n",
       "      <td>35.0</td>\n",
       "      <td>0</td>\n",
       "      <td>0</td>\n",
       "      <td>8.0500</td>\n",
       "      <td>0</td>\n",
       "      <td>0</td>\n",
       "      <td>1</td>\n",
       "    </tr>\n",
       "    <tr>\n",
       "      <th>5</th>\n",
       "      <td>0</td>\n",
       "      <td>3</td>\n",
       "      <td>0</td>\n",
       "      <td>NaN</td>\n",
       "      <td>0</td>\n",
       "      <td>0</td>\n",
       "      <td>8.4583</td>\n",
       "      <td>0</td>\n",
       "      <td>1</td>\n",
       "      <td>0</td>\n",
       "    </tr>\n",
       "  </tbody>\n",
       "</table>\n",
       "</div>"
      ],
      "text/plain": [
       "   Survived  Pclass  Sex   Age  SibSp  Parch     Fare  Embarked_C  Embarked_Q  \\\n",
       "0         0       3    0  22.0      1      0   7.2500           0           0   \n",
       "1         1       1    1  38.0      1      0  71.2833           1           0   \n",
       "2         1       3    1  26.0      0      0   7.9250           0           0   \n",
       "3         1       1    1  35.0      1      0  53.1000           0           0   \n",
       "4         0       3    0  35.0      0      0   8.0500           0           0   \n",
       "5         0       3    0   NaN      0      0   8.4583           0           1   \n",
       "\n",
       "   Embarked_S  \n",
       "0           1  \n",
       "1           0  \n",
       "2           1  \n",
       "3           1  \n",
       "4           1  \n",
       "5           0  "
      ]
     },
     "execution_count": 5,
     "metadata": {},
     "output_type": "execute_result"
    }
   ],
   "source": [
    "df_train.head(6)"
   ]
  },
  {
   "cell_type": "code",
   "execution_count": 6,
   "metadata": {},
   "outputs": [],
   "source": [
    "X_train = df_train.iloc[:,1:]\n",
    "Y_train = df_train['Survived']"
   ]
  },
  {
   "cell_type": "markdown",
   "metadata": {},
   "source": [
    "## scikit-learnからlightGBMを使う"
   ]
  },
  {
   "cell_type": "code",
   "execution_count": 9,
   "metadata": {
    "scrolled": false
   },
   "outputs": [
    {
     "name": "stdout",
     "output_type": "stream",
     "text": [
      "Training until validation scores don't improve for 10 rounds.\n",
      "[5]\tvalid_0's binary_logloss: 0.556075\n",
      "[10]\tvalid_0's binary_logloss: 0.505685\n",
      "[15]\tvalid_0's binary_logloss: 0.485895\n",
      "[20]\tvalid_0's binary_logloss: 0.474804\n",
      "[25]\tvalid_0's binary_logloss: 0.470811\n",
      "[30]\tvalid_0's binary_logloss: 0.4765\n",
      "Early stopping, best iteration is:\n",
      "[24]\tvalid_0's binary_logloss: 0.47018\n",
      "78.45\n",
      "Training until validation scores don't improve for 10 rounds.\n",
      "[5]\tvalid_0's binary_logloss: 0.529032\n",
      "[10]\tvalid_0's binary_logloss: 0.461394\n",
      "[15]\tvalid_0's binary_logloss: 0.433835\n",
      "[20]\tvalid_0's binary_logloss: 0.423196\n",
      "[25]\tvalid_0's binary_logloss: 0.425706\n",
      "[30]\tvalid_0's binary_logloss: 0.437602\n",
      "Early stopping, best iteration is:\n",
      "[23]\tvalid_0's binary_logloss: 0.421602\n",
      "82.49\n",
      "Training until validation scores don't improve for 10 rounds.\n",
      "[5]\tvalid_0's binary_logloss: 0.531366\n",
      "[10]\tvalid_0's binary_logloss: 0.460926\n",
      "[15]\tvalid_0's binary_logloss: 0.427192\n",
      "[20]\tvalid_0's binary_logloss: 0.407025\n",
      "[25]\tvalid_0's binary_logloss: 0.397427\n",
      "[30]\tvalid_0's binary_logloss: 0.395473\n",
      "[35]\tvalid_0's binary_logloss: 0.395019\n",
      "[40]\tvalid_0's binary_logloss: 0.394081\n",
      "[45]\tvalid_0's binary_logloss: 0.391115\n",
      "[50]\tvalid_0's binary_logloss: 0.392508\n",
      "[55]\tvalid_0's binary_logloss: 0.392915\n",
      "Early stopping, best iteration is:\n",
      "[46]\tvalid_0's binary_logloss: 0.391022\n",
      "84.51\n"
     ]
    }
   ],
   "source": [
    "# 3分割交差検証を指定し、インスタンス化\n",
    "kf = KFold(n_splits=3)\n",
    "\n",
    "score_list = []\n",
    "\n",
    "params = {\n",
    "        'objective': 'binary',\n",
    "        'metric' : 'binary_error',\n",
    "        'learning_rate': 0.1,\n",
    "        'num_leaves' : 300,\n",
    "        'random_seed' : 1\n",
    "}\n",
    "\n",
    "for train_index, test_index in kf.split(X_train, Y_train):\n",
    "    X_cv_train = X_train.iloc[train_index]\n",
    "    X_cv_test = X_train.iloc[test_index]\n",
    "    y_cv_train = Y_train[train_index]\n",
    "    y_cv_test = Y_train[test_index]\n",
    "\n",
    "    gbm = lgb.LGBMClassifier(objective='binary',\n",
    "                        num_leaves = 300,\n",
    "                        learning_rate = 0.1,\n",
    "                        )\n",
    "    gbm.fit(X_cv_train, y_cv_train,\n",
    "            eval_set = [(X_cv_test, y_cv_test)],\n",
    "            early_stopping_rounds=10,\n",
    "            verbose=5)\n",
    "    \n",
    "    y_pred = gbm.predict(X_cv_test, num_iteration=gbm.best_iteration_)\n",
    "    score_list.append(round(accuracy_score(y_cv_test,y_pred)*100,2))\n",
    "    print(round(accuracy_score(y_cv_test,y_pred)*100,2))"
   ]
  },
  {
   "cell_type": "code",
   "execution_count": 12,
   "metadata": {},
   "outputs": [
    {
     "data": {
      "text/plain": [
       "[78.45, 82.49, 84.51]"
      ]
     },
     "execution_count": 12,
     "metadata": {},
     "output_type": "execute_result"
    }
   ],
   "source": [
    "score_list"
   ]
  },
  {
   "cell_type": "code",
   "execution_count": 10,
   "metadata": {},
   "outputs": [
    {
     "data": {
      "text/plain": [
       "<bound method LGBMModel.get_params of LGBMClassifier(boosting_type='gbdt', class_weight=None, colsample_bytree=1.0,\n",
       "        learning_rate=0.1, max_depth=-1, min_child_samples=20,\n",
       "        min_child_weight=0.001, min_split_gain=0.0, n_estimators=100,\n",
       "        n_jobs=-1, num_leaves=300, objective='binary', random_state=None,\n",
       "        reg_alpha=0.0, reg_lambda=0.0, silent=True, subsample=1.0,\n",
       "        subsample_for_bin=200000, subsample_freq=1)>"
      ]
     },
     "execution_count": 10,
     "metadata": {},
     "output_type": "execute_result"
    }
   ],
   "source": [
    "gbm.get_params"
   ]
  },
  {
   "cell_type": "code",
   "execution_count": null,
   "metadata": {},
   "outputs": [],
   "source": [
    "gbm."
   ]
  },
  {
   "cell_type": "code",
   "execution_count": 30,
   "metadata": {},
   "outputs": [],
   "source": [
    "df_gender_submission['Survived'] = y_pred"
   ]
  },
  {
   "cell_type": "code",
   "execution_count": 32,
   "metadata": {
    "collapsed": true
   },
   "outputs": [],
   "source": [
    "df_gender_submission.to_csv('lightgbm.csv',index = False)"
   ]
  },
  {
   "cell_type": "markdown",
   "metadata": {},
   "source": [
    "## scikit-learnを使わない"
   ]
  },
  {
   "cell_type": "code",
   "execution_count": 7,
   "metadata": {
    "scrolled": false
   },
   "outputs": [
    {
     "name": "stdout",
     "output_type": "stream",
     "text": [
      "Training until validation scores don't improve for 20 rounds.\n",
      "[5]\tvalid_0's binary_logloss: 0.556075\n",
      "[10]\tvalid_0's binary_logloss: 0.505685\n",
      "[15]\tvalid_0's binary_logloss: 0.485895\n",
      "[20]\tvalid_0's binary_logloss: 0.474804\n",
      "[25]\tvalid_0's binary_logloss: 0.470811\n",
      "[30]\tvalid_0's binary_logloss: 0.4765\n",
      "[35]\tvalid_0's binary_logloss: 0.484632\n",
      "[40]\tvalid_0's binary_logloss: 0.492978\n",
      "Early stopping, best iteration is:\n",
      "[24]\tvalid_0's binary_logloss: 0.47018\n",
      "78.45\n",
      "Training until validation scores don't improve for 20 rounds.\n",
      "[5]\tvalid_0's binary_logloss: 0.529032\n",
      "[10]\tvalid_0's binary_logloss: 0.461394\n",
      "[15]\tvalid_0's binary_logloss: 0.433835\n",
      "[20]\tvalid_0's binary_logloss: 0.423196\n",
      "[25]\tvalid_0's binary_logloss: 0.425706\n",
      "[30]\tvalid_0's binary_logloss: 0.437602\n",
      "[35]\tvalid_0's binary_logloss: 0.447486\n",
      "[40]\tvalid_0's binary_logloss: 0.459137\n",
      "Early stopping, best iteration is:\n",
      "[23]\tvalid_0's binary_logloss: 0.421602\n",
      "82.49\n",
      "Training until validation scores don't improve for 20 rounds.\n",
      "[5]\tvalid_0's binary_logloss: 0.531366\n",
      "[10]\tvalid_0's binary_logloss: 0.460926\n",
      "[15]\tvalid_0's binary_logloss: 0.427192\n",
      "[20]\tvalid_0's binary_logloss: 0.407025\n",
      "[25]\tvalid_0's binary_logloss: 0.397427\n",
      "[30]\tvalid_0's binary_logloss: 0.395473\n",
      "[35]\tvalid_0's binary_logloss: 0.395019\n",
      "[40]\tvalid_0's binary_logloss: 0.394081\n",
      "[45]\tvalid_0's binary_logloss: 0.391115\n",
      "[50]\tvalid_0's binary_logloss: 0.392508\n",
      "Did not meet early stopping. Best iteration is:\n",
      "[46]\tvalid_0's binary_logloss: 0.391022\n",
      "84.51\n"
     ]
    }
   ],
   "source": [
    "X_train = df_train.iloc[:,1:]\n",
    "Y_train = df_train['Survived']\n",
    "\n",
    "# 3分割交差検証を指定し、インスタンス化\n",
    "skf = KFold(n_splits=3)\n",
    "\n",
    "params = {\n",
    "        'objective': 'binary',\n",
    "        'learning_rate': 0.1,\n",
    "        'num_leaves' : 300\n",
    "}\n",
    "\n",
    "\n",
    "# skf.split(X_train.Ytrain)で、X_trainとY_trainを3分割し、交差検証をする\n",
    "for train_index, test_index in skf.split(X_train, Y_train):\n",
    "    X_cv_train = X_train.iloc[train_index]\n",
    "    X_cv_test = X_train.iloc[test_index]\n",
    "    y_cv_train = Y_train[train_index]\n",
    "    y_cv_test = Y_train[test_index]\n",
    "    \n",
    "    lgb_train = lgb.Dataset(X_cv_train,y_cv_train)\n",
    "    lgb_eval = lgb.Dataset(X_cv_test,y_cv_test)\n",
    "    \n",
    "    gbm = lgb.train(params = params,\n",
    "            train_set = lgb_train,\n",
    "            num_boost_round=50,\n",
    "            valid_sets=lgb_eval,\n",
    "            early_stopping_rounds=20,\n",
    "            verbose_eval = 5)\n",
    "    \n",
    "    y_pred = gbm.predict(X_cv_test,num_iteration=gbm.best_iteration)\n",
    "\n",
    "    # acuuracyを表示\n",
    "    preds = np.round(gbm.predict(X_cv_test))\n",
    "    print(round(accuracy_score(y_cv_test,preds)*100,2))"
   ]
  },
  {
   "cell_type": "markdown",
   "metadata": {},
   "source": [
    "### cv(cross validation)を簡単に行うことができる"
   ]
  },
  {
   "cell_type": "markdown",
   "metadata": {},
   "source": [
    "おそらく、scikit-learnからはできなくて、毎回stdまで出してくれるから使いやすい  \n",
    "\n",
    "- 参考１：https://lightgbm.readthedocs.io/en/latest/Python-API.html#lightgbm.cv\n",
    "- 参考２：https://www.kaggle.com/c/home-credit-default-risk/discussion/58332#339215"
   ]
  },
  {
   "cell_type": "code",
   "execution_count": null,
   "metadata": {},
   "outputs": [],
   "source": [
    "X_train, Y_train"
   ]
  },
  {
   "cell_type": "code",
   "execution_count": 14,
   "metadata": {},
   "outputs": [],
   "source": [
    "lgb_train = lgb.Dataset(X_train, Y_train)\n",
    "\n",
    "# LightGBM のハイパーパラメータ\n",
    "lgbm_params = {\n",
    "    # ２値分類問題\n",
    "    'objective': 'binary',\n",
    "}"
   ]
  },
  {
   "cell_type": "code",
   "execution_count": 22,
   "metadata": {},
   "outputs": [
    {
     "data": {
      "text/plain": [
       "<function lightgbm.engine.cv(params, train_set, num_boost_round=100, folds=None, nfold=5, stratified=True, shuffle=True, metrics=None, fobj=None, feval=None, init_model=None, feature_name='auto', categorical_feature='auto', early_stopping_rounds=None, fpreproc=None, verbose_eval=None, show_stdv=True, seed=0, callbacks=None)>"
      ]
     },
     "execution_count": 22,
     "metadata": {},
     "output_type": "execute_result"
    }
   ],
   "source": [
    "lgb.cv"
   ]
  },
  {
   "cell_type": "code",
   "execution_count": 23,
   "metadata": {},
   "outputs": [
    {
     "name": "stdout",
     "output_type": "stream",
     "text": [
      "[5]\tcv_agg's binary_logloss: 0.535047 + 0.00731934\n",
      "[10]\tcv_agg's binary_logloss: 0.471216 + 0.0110242\n",
      "[15]\tcv_agg's binary_logloss: 0.442614 + 0.0163243\n",
      "[20]\tcv_agg's binary_logloss: 0.429049 + 0.0228276\n",
      "[25]\tcv_agg's binary_logloss: 0.422689 + 0.0271116\n",
      "[30]\tcv_agg's binary_logloss: 0.423944 + 0.0281816\n",
      "[35]\tcv_agg's binary_logloss: 0.427134 + 0.0300522\n",
      "[40]\tcv_agg's binary_logloss: 0.430943 + 0.032768\n",
      "[45]\tcv_agg's binary_logloss: 0.432811 + 0.0318804\n",
      "[50]\tcv_agg's binary_logloss: 0.438745 + 0.0336889\n"
     ]
    }
   ],
   "source": [
    "gbm = lgb.cv(params = lgbm_params,\n",
    "            train_set = lgb_train,\n",
    "            num_boost_round=50,\n",
    "            nfold=5, \n",
    "            stratified=False,\n",
    "            early_stopping_rounds=None,\n",
    "            verbose_eval = 5)"
   ]
  },
  {
   "cell_type": "code",
   "execution_count": 24,
   "metadata": {},
   "outputs": [
    {
     "data": {
      "text/plain": [
       "{'binary_logloss-mean': [0.6482755793667876,\n",
       "  0.6119305411339085,\n",
       "  0.5820796068247593,\n",
       "  0.5562550675322665,\n",
       "  0.5350468296220562,\n",
       "  0.5179898585549964,\n",
       "  0.5031262579663032,\n",
       "  0.4908952052787419,\n",
       "  0.48089319204408376,\n",
       "  0.47121597228517215,\n",
       "  0.4629217688050633,\n",
       "  0.45681698299009754,\n",
       "  0.4511793002197833,\n",
       "  0.44621586476085345,\n",
       "  0.44261389974510046,\n",
       "  0.4381098555344062,\n",
       "  0.43482970639070634,\n",
       "  0.4331172337372503,\n",
       "  0.4306414808471235,\n",
       "  0.4290487872474317,\n",
       "  0.4265948968903717,\n",
       "  0.425656346687445,\n",
       "  0.4244345834574175,\n",
       "  0.4237613835393471,\n",
       "  0.42268947471839463,\n",
       "  0.4226693828798235,\n",
       "  0.4231409166138893,\n",
       "  0.42342719963507863,\n",
       "  0.42361870043574407,\n",
       "  0.42394372092945193,\n",
       "  0.42349842464399784,\n",
       "  0.42441299658276294,\n",
       "  0.4250617993318698,\n",
       "  0.42576231838824585,\n",
       "  0.4271337675316606,\n",
       "  0.4278185700400381,\n",
       "  0.42838049887593443,\n",
       "  0.42908008738834036,\n",
       "  0.4298710628868685,\n",
       "  0.43094313805434403,\n",
       "  0.43201556377356143,\n",
       "  0.43115551294394666,\n",
       "  0.4323981777784233,\n",
       "  0.43238941860045116,\n",
       "  0.4328110721339435,\n",
       "  0.4332643662245794,\n",
       "  0.4341760797412733,\n",
       "  0.4355886848011098,\n",
       "  0.43674545175407725,\n",
       "  0.4387449000989664],\n",
       " 'binary_logloss-stdv': [0.0018282455224582033,\n",
       "  0.0035863950553582653,\n",
       "  0.004434839489130659,\n",
       "  0.0059277751364006145,\n",
       "  0.007319335040741363,\n",
       "  0.008551953107664639,\n",
       "  0.009064713084983488,\n",
       "  0.00913253237622892,\n",
       "  0.010457094291015486,\n",
       "  0.011024203596888655,\n",
       "  0.012674881602032624,\n",
       "  0.0129297604175578,\n",
       "  0.014393281779488384,\n",
       "  0.014974020845886669,\n",
       "  0.016324312410227165,\n",
       "  0.01694815883772523,\n",
       "  0.018574818922996342,\n",
       "  0.02045579565927783,\n",
       "  0.021859656123378327,\n",
       "  0.02282760146124338,\n",
       "  0.023741465724715957,\n",
       "  0.024771354155646717,\n",
       "  0.025109791493628467,\n",
       "  0.026434117653971,\n",
       "  0.027111631508804548,\n",
       "  0.026881824848911384,\n",
       "  0.02686609181652453,\n",
       "  0.027460731649891587,\n",
       "  0.02782661797606979,\n",
       "  0.028181611132561263,\n",
       "  0.028360862107866206,\n",
       "  0.029439328019409475,\n",
       "  0.03003427683954052,\n",
       "  0.030378093593892586,\n",
       "  0.030052236870364592,\n",
       "  0.03153086908210713,\n",
       "  0.03140008382064712,\n",
       "  0.031740237802002594,\n",
       "  0.032831890180519685,\n",
       "  0.032768011897992916,\n",
       "  0.032501213239305424,\n",
       "  0.03238132747280831,\n",
       "  0.03295302511451458,\n",
       "  0.032758644700815,\n",
       "  0.03188038683195925,\n",
       "  0.03341508195902214,\n",
       "  0.034221945949614564,\n",
       "  0.033970640634295036,\n",
       "  0.03355579361630163,\n",
       "  0.03368888805129628]}"
      ]
     },
     "execution_count": 24,
     "metadata": {},
     "output_type": "execute_result"
    }
   ],
   "source": [
    "gbm"
   ]
  },
  {
   "cell_type": "code",
   "execution_count": 28,
   "metadata": {},
   "outputs": [
    {
     "data": {
      "image/png": "[encoded data removed]",
      "text/plain": [
       "<Figure size 432x288 with 1 Axes>"
      ]
     },
     "metadata": {},
     "output_type": "display_data"
    }
   ],
   "source": [
    "cv_logloss = gbm['binary_logloss-mean']\n",
    "round_n = np.arange(len(cv_logloss))\n",
    "\n",
    "plt.xlabel('round')\n",
    "plt.ylabel('logloss')\n",
    "plt.plot(round_n, cv_logloss)\n",
    "plt.show()"
   ]
  },
  {
   "cell_type": "code",
   "execution_count": 31,
   "metadata": {},
   "outputs": [
    {
     "data": {
      "image/png": "[encoded data removed]",
      "text/plain": [
       "<Figure size 432x288 with 1 Axes>"
      ]
     },
     "metadata": {},
     "output_type": "display_data"
    }
   ],
   "source": [
    "plt.xlabel('round')\n",
    "plt.ylabel('logloss-stdv')\n",
    "plt.plot(round_n, gbm['binary_logloss-stdv']);\n",
    "plt.show()"
   ]
  }
 ],
 "metadata": {
  "anaconda-cloud": {},
  "kernelspec": {
   "display_name": "Python 3",
   "language": "python",
   "name": "python3"
  },
  "language_info": {
   "codemirror_mode": {
    "name": "ipython",
    "version": 3
   },
   "file_extension": ".py",
   "mimetype": "text/x-python",
   "name": "python",
   "nbconvert_exporter": "python",
   "pygments_lexer": "ipython3",
   "version": "3.6.5"
  },
  "toc": {
   "base_numbering": 1,
   "nav_menu": {},
   "number_sections": true,
   "sideBar": true,
   "skip_h1_title": false,
   "title_cell": "Table of Contents",
   "title_sidebar": "Contents",
   "toc_cell": false,
   "toc_position": {},
   "toc_section_display": true,
   "toc_window_display": false
  }
 },
 "nbformat": 4,
 "nbformat_minor": 2
}
